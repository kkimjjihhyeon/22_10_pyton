{
  "nbformat": 4,
  "nbformat_minor": 0,
  "metadata": {
    "colab": {
      "provenance": [],
      "collapsed_sections": [],
      "authorship_tag": "ABX9TyPGGNY/V0TjgvJohF77eApP",
      "include_colab_link": true
    },
    "kernelspec": {
      "name": "python3",
      "display_name": "Python 3"
    },
    "language_info": {
      "name": "python"
    }
  },
  "cells": [
    {
      "cell_type": "markdown",
      "metadata": {
        "id": "view-in-github",
        "colab_type": "text"
      },
      "source": [
        "<a href=\"https://colab.research.google.com/github/kkimjjihhyeon/22_10_pyton/blob/main/python_001.ipynb\" target=\"_parent\"><img src=\"https://colab.research.google.com/assets/colab-badge.svg\" alt=\"Open In Colab\"/></a>"
      ]
    },
    {
      "cell_type": "code",
      "execution_count": null,
      "metadata": {
        "id": "C8m0o-vEllio"
      },
      "outputs": [],
      "source": []
    },
    {
      "cell_type": "markdown",
      "source": [
        "코렛과 깃허브의 첫번째 연결을 진행합니다."
      ],
      "metadata": {
        "id": "_Y-vkdJ1mok9"
      }
    },
    {
      "cell_type": "code",
      "source": [
        "print(\"Hello github\")\n",
        "print(\"Hello python\")\n",
        "print(\"안녕하세요\")\n",
        "print(\"Programing에 입문하신  것을 축하드립니다.\")"
      ],
      "metadata": {
        "colab": {
          "base_uri": "https://localhost:8080/"
        },
        "id": "chJvF6-hmwc0",
        "outputId": "d57f84da-ba5e-4fe5-8e16-1565f633c642"
      },
      "execution_count": null,
      "outputs": [
        {
          "output_type": "stream",
          "name": "stdout",
          "text": [
            "Hello github\n",
            "Hello python\n"
          ]
        }
      ]
    }
  ]
}